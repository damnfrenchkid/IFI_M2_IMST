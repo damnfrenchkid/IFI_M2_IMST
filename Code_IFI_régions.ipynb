{
 "cells": [
  {
   "cell_type": "code",
   "execution_count": null,
   "metadata": {},
   "outputs": [],
   "source": [
    "import pandas as pd\n",
    "import numpy as np\n",
    "import plotly.graph_objs as go\n",
    "import plotly.express as px\n",
    "import json\n",
    "\n",
    "with open(\"régions_filtrees.geojson\", \"r\") as f:\n",
    "    counties = json.load(f)\n",
    "\n",
    "counties['features'][1]\n",
    "\n",
    "df = pd.read_excel(\"IFIrégions2020.xlsx\")\n",
    "df.head()\n",
    "\n",
    "\n",
    "df = df.rename(columns=dict(red=\"Nombre de redevables en 2020 par régions\",\n",
    "                            Patmoy=\"Moyenne du Patrimoine moyen en 2020 par régions (en millions d'€)\",\n",
    "                            SomPatrimoine=\"Somme Patrimoine moyen en 2020 par régions (en millions d'€)\",\n",
    "                            SomImpot=\"Somme Impôt moyen en 2020 par régions (en millions d'€)\",\n",
    "                            Moyimpot=\"Moyenne Impôt moyen en 2020 par régions (en millions d'€)\"))\n",
    "cols_dd = [\"Nombre de redevables en 2020 par régions\", \"Moyenne du Patrimoine moyen en 2020 par régions (en millions d'€)\", \"Somme Patrimoine moyen en 2020 par régions (en millions d'€)\",\"Somme Impôt moyen en 2020 par régions (en millions d'€)\",\"Moyenne Impôt moyen en 2020 par régions (en millions d'€)\"]\n",
    "visible = np.array(cols_dd)\n",
    "\n",
    "traces = []\n",
    "buttons = []\n",
    "for value in cols_dd:\n",
    "    traces.append(go.Choroplethmapbox(\n",
    "       geojson=counties,\n",
    "       autocolorscale=True,\n",
    "       featureidkey=\"properties.nom\",\n",
    "       locations=df['Régions'], # Spatial coordinates\n",
    "        z=df[value].astype(float), # Data to be color-coded\n",
    "        colorbar_title=value,\n",
    "        visible= True if value==cols_dd[0] else False))\n",
    "\n",
    "    buttons.append(dict(label=value,\n",
    "                        method=\"update\",\n",
    "                        args=[{\"visible\":list(visible==value)},\n",
    "                              {\"title\":f\"<b>{value}</b>\"}]))\n",
    "\n",
    "updatemenus = [{\"active\":0,\n",
    "                \"buttons\":buttons,\n",
    "               }]\n",
    "\n",
    "\n",
    "\n",
    "fig = go.Figure(data=traces,\n",
    "                layout=dict(updatemenus=updatemenus))\n",
    "\n",
    "first_title = cols_dd[0]\n",
    "fig.update_layout(title=f\"<b>{first_title}</b>\",title_x=0.5,mapbox=dict(style='carto-positron',zoom=5, center = {'lat': 48.85, 'lon': 2.35}))\n",
    "fig.show()"
   ]
  },
  {
   "cell_type": "code",
   "execution_count": null,
   "metadata": {},
   "outputs": [],
   "source": [
    "fig.write_html(\"IFI2020.html\")"
   ]
  }
 ],
 "metadata": {
  "kernelspec": {
   "display_name": "Python 3",
   "language": "python",
   "name": "python3"
  },
  "language_info": {
   "name": "python",
   "version": "3.11.1"
  },
  "orig_nbformat": 4,
  "vscode": {
   "interpreter": {
    "hash": "b54a97f0ba795dfdf2b4225656eb42551b09101607fb44cd891c8e404179cef6"
   }
  }
 },
 "nbformat": 4,
 "nbformat_minor": 2
}
