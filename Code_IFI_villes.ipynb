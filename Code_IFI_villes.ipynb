{
 "cells": [
  {
   "cell_type": "code",
   "execution_count": null,
   "metadata": {},
   "outputs": [],
   "source": [
    "import plotly.graph_objects as go_module\n",
    "import json\n",
    "import pandas as pd\n",
    "import plotly.express as px\n",
    "\n",
    "df1 = pd.read_excel('villes_avec_coords_IFI_2021.xlsx')\n",
    "df1.head()\n",
    "\n",
    "df1 = df1[df1[\"Nombre de redevables\"].notna()]\n",
    "\n",
    "fig = px.scatter_mapbox(df1,\n",
    "                          lat=df1[\"Latitude\"],\n",
    "                          lon=df1[\"Longitude\"],\n",
    "                          size=\"Impôt moyen en €\",\n",
    "                          color='Patrimoine moyen en €',\n",
    "                          #color_continuous_scale=px.colors.sequential.Viridis,\n",
    "                          zoom=5,\n",
    "                          hover_data={\"nombre de redevables\": df1[\"Nombre de redevables\"].astype(int).astype(str)},\n",
    "                          hover_name=\"villes\")\n",
    "#fig.update_layout(mapbox={\"style\": \"carto-positron\", \"zoom\": 4}, margin={\"t\":0,\"b\":0,\"l\":0,\"r\":0})\n",
    "fig.update_layout(title=\"IFI des villes en 2021\",title_x=0.5,showlegend=True,legend=dict(title=\"Taille des marqueurs (€)\"),legend_x=0.8,mapbox=dict(style='carto-positron',zoom=4, center = {'lat': 48.85, 'lon': 2.35}))\n",
    "\n",
    "fig.show()\n",
    "fig.write_html(\"IFI_Villes_2021.html\")"
   ]
  }
 ],
 "metadata": {
  "kernelspec": {
   "display_name": "Python 3",
   "language": "python",
   "name": "python3"
  },
  "language_info": {
   "name": "python",
   "version": "3.11.1"
  },
  "orig_nbformat": 4,
  "vscode": {
   "interpreter": {
    "hash": "b54a97f0ba795dfdf2b4225656eb42551b09101607fb44cd891c8e404179cef6"
   }
  }
 },
 "nbformat": 4,
 "nbformat_minor": 2
}
